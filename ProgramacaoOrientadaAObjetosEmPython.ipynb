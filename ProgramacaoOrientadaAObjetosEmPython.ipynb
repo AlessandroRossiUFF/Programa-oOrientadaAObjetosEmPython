{
  "nbformat": 4,
  "nbformat_minor": 0,
  "metadata": {
    "colab": {
      "name": "ProgramacaoOrientadaAObjetosEmPython",
      "provenance": [],
      "collapsed_sections": [],
      "toc_visible": true,
      "mount_file_id": "1D5CfNZA7Yfyo518QOLveu0HGofts8x-4",
      "authorship_tag": "ABX9TyMGi0KyLhZX9xz9T6l9e3k6",
      "include_colab_link": true
    },
    "kernelspec": {
      "display_name": "Python 3",
      "name": "python3"
    }
  },
  "cells": [
    {
      "cell_type": "markdown",
      "metadata": {
        "id": "view-in-github",
        "colab_type": "text"
      },
      "source": [
        "<a href=\"https://colab.research.google.com/github/AlessandroRossiUFF/Programa-oOrientadaAObjetosEmPython/blob/main/ProgramacaoOrientadaAObjetosEmPython.ipynb\" target=\"_parent\"><img src=\"https://colab.research.google.com/assets/colab-badge.svg\" alt=\"Open In Colab\"/></a>"
      ]
    },
    {
      "cell_type": "markdown",
      "metadata": {
        "id": "1yEzihxPlm5u"
      },
      "source": [
        "###Você precisa calcular o CR de alunos de uma universidade. Para isto será preciso ler de um arquivo csv a lista de notas dos alunos e, de acordo com as notas e os critérios da universidade, calcular o CR de todos os alunos. Ao final do processo, será preciso mostrar na tela o CR de todos os alunos e qual a média de CR dos cursos.\n",
        "\n",
        "Regras\n",
        "A nota do aluno vai de zero até 100;\n",
        "Uma nota é associada a uma disciplina e a um código de curso;\n",
        "O CR é a média ponderada da nota do aluno naquela turma com a carga horária daquela turma. O cálculo é:\n",
        "CR = Nota(i)*CargaHoraria(i)/TotalCargaHoraria\n",
        "\n",
        "i é a i-ésima turma de um aluno\n",
        "Utilizar Orientação a Objetos para resolver o problema\n",
        "Escolha a linguagem que achar adequada"
      ]
    },
    {
      "cell_type": "markdown",
      "metadata": {
        "id": "-seMf9_g2TzH"
      },
      "source": [
        "#A partir daqui começa a resolução."
      ]
    },
    {
      "cell_type": "markdown",
      "metadata": {
        "id": "pzXfApTSG_PB"
      },
      "source": [
        "###Vamos começar importando nosso DataFrame com o pandas,criando uma classe chamada DataBase que vai ser onde iremos trabalhar todas informações necessárias e colocando um módulo chamado CalculaCR dentro da nossa classe para operar as informações."
      ]
    },
    {
      "cell_type": "code",
      "metadata": {
        "id": "b4sooRmGom7_"
      },
      "source": [
        "import pandas as pd\n",
        "\n",
        "class DataBaseCursoAluno:\n",
        "\n",
        "  dados = pd.read_csv(\"/content/drive/MyDrive/notas.csv\", usecols=[0, 1, 2, 3, 4])\n",
        "  df_aluno = pd.DataFrame({'Matricula':[],'CR':[]\n",
        "                         })\n",
        "  df_turma = pd.DataFrame({'CODIGO_DE_TURMA':[],'CR':[]\n",
        "                         })\n",
        "  df_aluno['Matricula'] = dados['MATRICULA'].unique()\n",
        "  df_turma['CODIGO_DE_TURMA'] = dados['COD_CURSO'].unique()\n",
        "\n",
        "  lista = dados\n",
        "  turmaT = dados['COD_CURSO']                  #Todas as linhas na coluna das turmas.\n",
        "  turmaU = dados['COD_CURSO'].unique()         #Turmas sem repetição.\n",
        "  matriculaT = dados['MATRICULA']              #Todas as linhas na coluna das matriculas.\n",
        "  matriculaU = dados['MATRICULA'].unique()     #Matriculas sem repetição.\n",
        "  horas = dados['CARGA_HORARIA']               #Referente a coluna da carga horária.\n",
        "  notas = dados['NOTA']                        #Coluna das notas.\n",
        "  horasI = []\n",
        "  horasT = []\n",
        "\n",
        "  def CalculaCR(self, registroUnicos, registrosTotais, valorColuna, valorNotas, horas):\n",
        "    df_Registros = pd.DataFrame({'IDENTIFICAÇÃO':[], 'CR':[]})\n",
        "\n",
        "    vT = []  #Vetor auxiliar.\n",
        "    cr = []   #Vetor auxiliar.\n",
        "    for i in range(len(registroUnicos)):\n",
        "     for i in range(len(registroUnicos)):\n",
        "      for j in range(len(registrosTotais)):\n",
        "        if registroUnicos[i] == registrosTotais[j]:\n",
        "          cr.append(registro.dados.loc[j,'CARGA_HORARIA'])\n",
        "          registro.dados.loc[j,'indice'] = registroUnicos[i]    #Nessa parte do método calculamos as horas totais\n",
        "      for j in range(len(registrosTotais)):            #referentes a cada parâmetro \"registro\",que nesse caso\n",
        "        if registroUnicos[i] == registrosTotais[j]:    #vai representar os códigos de turma ou os numeros de matricula.\n",
        "          registro.dados.loc[j,'indice'] = sum(cr)\n",
        "          s = 0\n",
        "          while s < len(cr):\n",
        "            cr[s] = 0\n",
        "            s += 1\n",
        "    valorColuna = registro.dados['indice'].tolist()        \n",
        "    for i in range(len(valorColuna)):\n",
        "      if valorColuna[i] != 0:\n",
        "        vT.append(valorColuna[i])\n",
        "    valorColuna = vT\n",
        "\n",
        "    cr = []\n",
        "    for i in range(len(registroUnicos)):                   #Nessa parte do método usamos as horas totais obtidas\n",
        "      vaCount = 0                                               #para calcular o CR relativo a cada turma ou matricula.\n",
        "      for j in range(len(registrosTotais)):\n",
        "        if registroUnicos[i] == registrosTotais[j]:\n",
        "          vaCount += (horas[j] * valorNotas[j]) / valorColuna[i]\n",
        "      cr.append(vaCount)\n",
        "\n",
        "    ordenadoRegistros = sorted(registroUnicos)     #Nessa parte do método colocamos IDs de registroUnicos\n",
        "    ordenadoCR = []                                #em ordem alfanumérica e colocamos os CRs em suas posições\n",
        "    for i in range(len(cr)):                       #relativas a cada id\n",
        "      ordenadoCR.append(0)\n",
        "      cr[i] = int(cr[i])\n",
        "    for i in range(len(cr)):\n",
        "      for j in range(len(cr)):\n",
        "        if ordenadoRegistros[i] == registroUnicos[j]:\n",
        "           ordenadoCR[i] += cr[j]\n",
        "\n",
        "    df_Registros['IDENTIFICAÇÃO'] = ordenadoRegistros\n",
        "    df_Registros['CR'] = ordenadoCR\n",
        "\n",
        "    return df_Registros\n",
        "\n",
        "registro = DataBaseCursoAluno()"
      ],
      "execution_count": 13,
      "outputs": []
    },
    {
      "cell_type": "markdown",
      "metadata": {
        "id": "Z513BzKB1QWz"
      },
      "source": [
        "Para obter o CR referente a cada aluno."
      ]
    },
    {
      "cell_type": "code",
      "metadata": {
        "colab": {
          "base_uri": "https://localhost:8080/",
          "height": 576
        },
        "id": "hYbAjf1-0Cmb",
        "outputId": "e1c25f00-ff58-4f70-842a-07764682b31f"
      },
      "source": [
        "registro.CalculaCR(registro.matriculaU, registro.matriculaT, registro.horasT, registro.notas, registro.horas)"
      ],
      "execution_count": 14,
      "outputs": [
        {
          "output_type": "execute_result",
          "data": {
            "text/html": [
              "<div>\n",
              "<style scoped>\n",
              "    .dataframe tbody tr th:only-of-type {\n",
              "        vertical-align: middle;\n",
              "    }\n",
              "\n",
              "    .dataframe tbody tr th {\n",
              "        vertical-align: top;\n",
              "    }\n",
              "\n",
              "    .dataframe thead th {\n",
              "        text-align: right;\n",
              "    }\n",
              "</style>\n",
              "<table border=\"1\" class=\"dataframe\">\n",
              "  <thead>\n",
              "    <tr style=\"text-align: right;\">\n",
              "      <th></th>\n",
              "      <th>IDENTIFICAÇÃO</th>\n",
              "      <th>CR</th>\n",
              "    </tr>\n",
              "  </thead>\n",
              "  <tbody>\n",
              "    <tr>\n",
              "      <th>0</th>\n",
              "      <td>100</td>\n",
              "      <td>63</td>\n",
              "    </tr>\n",
              "    <tr>\n",
              "      <th>1</th>\n",
              "      <td>101</td>\n",
              "      <td>82</td>\n",
              "    </tr>\n",
              "    <tr>\n",
              "      <th>2</th>\n",
              "      <td>102</td>\n",
              "      <td>56</td>\n",
              "    </tr>\n",
              "    <tr>\n",
              "      <th>3</th>\n",
              "      <td>103</td>\n",
              "      <td>57</td>\n",
              "    </tr>\n",
              "    <tr>\n",
              "      <th>4</th>\n",
              "      <td>104</td>\n",
              "      <td>64</td>\n",
              "    </tr>\n",
              "    <tr>\n",
              "      <th>5</th>\n",
              "      <td>105</td>\n",
              "      <td>47</td>\n",
              "    </tr>\n",
              "    <tr>\n",
              "      <th>6</th>\n",
              "      <td>106</td>\n",
              "      <td>64</td>\n",
              "    </tr>\n",
              "    <tr>\n",
              "      <th>7</th>\n",
              "      <td>107</td>\n",
              "      <td>51</td>\n",
              "    </tr>\n",
              "    <tr>\n",
              "      <th>8</th>\n",
              "      <td>108</td>\n",
              "      <td>65</td>\n",
              "    </tr>\n",
              "    <tr>\n",
              "      <th>9</th>\n",
              "      <td>109</td>\n",
              "      <td>79</td>\n",
              "    </tr>\n",
              "    <tr>\n",
              "      <th>10</th>\n",
              "      <td>110</td>\n",
              "      <td>72</td>\n",
              "    </tr>\n",
              "    <tr>\n",
              "      <th>11</th>\n",
              "      <td>111</td>\n",
              "      <td>78</td>\n",
              "    </tr>\n",
              "    <tr>\n",
              "      <th>12</th>\n",
              "      <td>112</td>\n",
              "      <td>67</td>\n",
              "    </tr>\n",
              "    <tr>\n",
              "      <th>13</th>\n",
              "      <td>113</td>\n",
              "      <td>58</td>\n",
              "    </tr>\n",
              "    <tr>\n",
              "      <th>14</th>\n",
              "      <td>114</td>\n",
              "      <td>61</td>\n",
              "    </tr>\n",
              "    <tr>\n",
              "      <th>15</th>\n",
              "      <td>115</td>\n",
              "      <td>57</td>\n",
              "    </tr>\n",
              "    <tr>\n",
              "      <th>16</th>\n",
              "      <td>116</td>\n",
              "      <td>59</td>\n",
              "    </tr>\n",
              "  </tbody>\n",
              "</table>\n",
              "</div>"
            ],
            "text/plain": [
              "    IDENTIFICAÇÃO  CR\n",
              "0             100  63\n",
              "1             101  82\n",
              "2             102  56\n",
              "3             103  57\n",
              "4             104  64\n",
              "5             105  47\n",
              "6             106  64\n",
              "7             107  51\n",
              "8             108  65\n",
              "9             109  79\n",
              "10            110  72\n",
              "11            111  78\n",
              "12            112  67\n",
              "13            113  58\n",
              "14            114  61\n",
              "15            115  57\n",
              "16            116  59"
            ]
          },
          "metadata": {
            "tags": []
          },
          "execution_count": 14
        }
      ]
    },
    {
      "cell_type": "markdown",
      "metadata": {
        "id": "ir9Drku91W7k"
      },
      "source": [
        "Para obter o CR referente a cada turma."
      ]
    },
    {
      "cell_type": "code",
      "metadata": {
        "colab": {
          "base_uri": "https://localhost:8080/",
          "height": 204
        },
        "id": "HEwQxYnVU7A_",
        "outputId": "2afab62a-c4c4-43a7-9dea-268de67663d4"
      },
      "source": [
        "registro.CalculaCR(registro.turmaU, registro.turmaT, registro.horasT, registro.notas, registro.horas)"
      ],
      "execution_count": 15,
      "outputs": [
        {
          "output_type": "execute_result",
          "data": {
            "text/html": [
              "<div>\n",
              "<style scoped>\n",
              "    .dataframe tbody tr th:only-of-type {\n",
              "        vertical-align: middle;\n",
              "    }\n",
              "\n",
              "    .dataframe tbody tr th {\n",
              "        vertical-align: top;\n",
              "    }\n",
              "\n",
              "    .dataframe thead th {\n",
              "        text-align: right;\n",
              "    }\n",
              "</style>\n",
              "<table border=\"1\" class=\"dataframe\">\n",
              "  <thead>\n",
              "    <tr style=\"text-align: right;\">\n",
              "      <th></th>\n",
              "      <th>IDENTIFICAÇÃO</th>\n",
              "      <th>CR</th>\n",
              "    </tr>\n",
              "  </thead>\n",
              "  <tbody>\n",
              "    <tr>\n",
              "      <th>0</th>\n",
              "      <td>4</td>\n",
              "      <td>49</td>\n",
              "    </tr>\n",
              "    <tr>\n",
              "      <th>1</th>\n",
              "      <td>21</td>\n",
              "      <td>74</td>\n",
              "    </tr>\n",
              "    <tr>\n",
              "      <th>2</th>\n",
              "      <td>31</td>\n",
              "      <td>55</td>\n",
              "    </tr>\n",
              "    <tr>\n",
              "      <th>3</th>\n",
              "      <td>56</td>\n",
              "      <td>67</td>\n",
              "    </tr>\n",
              "    <tr>\n",
              "      <th>4</th>\n",
              "      <td>103</td>\n",
              "      <td>84</td>\n",
              "    </tr>\n",
              "  </tbody>\n",
              "</table>\n",
              "</div>"
            ],
            "text/plain": [
              "   IDENTIFICAÇÃO  CR\n",
              "0              4  49\n",
              "1             21  74\n",
              "2             31  55\n",
              "3             56  67\n",
              "4            103  84"
            ]
          },
          "metadata": {
            "tags": []
          },
          "execution_count": 15
        }
      ]
    },
    {
      "cell_type": "markdown",
      "metadata": {
        "id": "Cp2_pBhpkc4y"
      },
      "source": [
        "#Até a próxima <3 S2 :) "
      ]
    }
  ]
}